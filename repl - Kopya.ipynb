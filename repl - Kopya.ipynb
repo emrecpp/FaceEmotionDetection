{
 "cells": [
  {
   "cell_type": "code",
   "execution_count": 1,
   "metadata": {},
   "outputs": [],
   "source": [
    "import pandas as pd\n",
    "from tensorflow.keras.preprocessing.image import ImageDataGenerator\n",
    "from tensorflow.keras.callbacks import EarlyStopping, ModelCheckpoint, ReduceLROnPlateau\n",
    "from tensorflow.keras.models import Sequential\n",
    "from tensorflow.keras.layers import *\n",
    "from tensorflow.keras.applications import ResNet50V2"
   ]
  },
  {
   "cell_type": "code",
   "execution_count": 2,
   "metadata": {},
   "outputs": [],
   "source": [
    "import os\n",
    "# Function to count classes in the dataset\n",
    "def Classes_Count(path, name):\n",
    "    Classes_Dict = {}\n",
    "    for Class in os.listdir(path):\n",
    "        Full_Path = os.path.join(path, Class)\n",
    "        Classes_Dict[Class] = len(os.listdir(Full_Path))\n",
    "    df = pd.DataFrame(Classes_Dict, index=[name])\n",
    "    return df"
   ]
  },
  {
   "cell_type": "code",
   "execution_count": 3,
   "metadata": {},
   "outputs": [],
   "source": [
    "# Data paths\n",
    "train_dir = rf'{os.getcwd()}{os.sep}archive{os.sep}train'\n",
    "test_dir = rf'{os.getcwd()}{os.sep}archive{os.sep}test'"
   ]
  },
  {
   "cell_type": "code",
   "execution_count": 4,
   "metadata": {},
   "outputs": [
    {
     "data": {
      "text/html": [
       "<div>\n",
       "<style scoped>\n",
       "    .dataframe tbody tr th:only-of-type {\n",
       "        vertical-align: middle;\n",
       "    }\n",
       "\n",
       "    .dataframe tbody tr th {\n",
       "        vertical-align: top;\n",
       "    }\n",
       "\n",
       "    .dataframe thead th {\n",
       "        text-align: right;\n",
       "    }\n",
       "</style>\n",
       "<table border=\"1\" class=\"dataframe\">\n",
       "  <thead>\n",
       "    <tr style=\"text-align: right;\">\n",
       "      <th></th>\n",
       "      <th>Train</th>\n",
       "      <th>Test</th>\n",
       "    </tr>\n",
       "  </thead>\n",
       "  <tbody>\n",
       "    <tr>\n",
       "      <th>happy</th>\n",
       "      <td>7215</td>\n",
       "      <td>1774</td>\n",
       "    </tr>\n",
       "    <tr>\n",
       "      <th>neutral</th>\n",
       "      <td>4965</td>\n",
       "      <td>1233</td>\n",
       "    </tr>\n",
       "    <tr>\n",
       "      <th>sad</th>\n",
       "      <td>4830</td>\n",
       "      <td>1247</td>\n",
       "    </tr>\n",
       "    <tr>\n",
       "      <th>fear</th>\n",
       "      <td>4097</td>\n",
       "      <td>1024</td>\n",
       "    </tr>\n",
       "    <tr>\n",
       "      <th>angry</th>\n",
       "      <td>3995</td>\n",
       "      <td>958</td>\n",
       "    </tr>\n",
       "    <tr>\n",
       "      <th>surprise</th>\n",
       "      <td>3171</td>\n",
       "      <td>831</td>\n",
       "    </tr>\n",
       "    <tr>\n",
       "      <th>disgust</th>\n",
       "      <td>436</td>\n",
       "      <td>111</td>\n",
       "    </tr>\n",
       "  </tbody>\n",
       "</table>\n",
       "</div>"
      ],
      "text/plain": [
       "          Train  Test\n",
       "happy      7215  1774\n",
       "neutral    4965  1233\n",
       "sad        4830  1247\n",
       "fear       4097  1024\n",
       "angry      3995   958\n",
       "surprise   3171   831\n",
       "disgust     436   111"
      ]
     },
     "execution_count": 4,
     "metadata": {},
     "output_type": "execute_result"
    }
   ],
   "source": [
    "# Count classes in train and test datasets\n",
    "Train_Count = Classes_Count(train_dir, 'Train').transpose().sort_values(by=\"Train\", ascending=False)\n",
    "Test_Count = Classes_Count(test_dir, 'Test').transpose().sort_values(by=\"Test\", ascending=False)\n",
    "pd.concat([Train_Count, Test_Count], axis=1)"
   ]
  },
  {
   "cell_type": "code",
   "execution_count": 5,
   "metadata": {},
   "outputs": [],
   "source": [
    "img_width,img_height=48,48\n",
    "batch_size=32\n",
    "epochs=100\n",
    "num_classes=7"
   ]
  },
  {
   "cell_type": "code",
   "execution_count": 6,
   "metadata": {},
   "outputs": [],
   "source": [
    "data_generator = ImageDataGenerator(\n",
    "    rescale=1./255,  # Rescale the pixel values from [0, 255] to [0, 1]\n",
    "    rotation_range=40,  # Degree range for random rotations\n",
    "    width_shift_range=0.2,  # Range (as a fraction of total width) for random horizontal shifts\n",
    "    height_shift_range=0.2,  # Range (as a fraction of total height) for random vertical shifts\n",
    "    shear_range=0.2,  # Shearing intensity (shear angle in counter-clockwise direction)\n",
    "    zoom_range=0.2,  # Range for random zoom\n",
    "    horizontal_flip=True,  # Randomly flip inputs horizontally\n",
    "    fill_mode='nearest',  # Strategy to fill newly created pixels, which can appear after a rotation or a width/height shift\n",
    "    validation_split=0.2  # Set the validation split; 20% of the data will be used for validation\n",
    ")"
   ]
  },
  {
   "cell_type": "code",
   "execution_count": 7,
   "metadata": {},
   "outputs": [
    {
     "name": "stdout",
     "output_type": "stream",
     "text": [
      "Found 22968 images belonging to 7 classes.\n",
      "Found 5741 images belonging to 7 classes.\n",
      "Found 7178 images belonging to 7 classes.\n"
     ]
    }
   ],
   "source": [
    "test_data_generator=ImageDataGenerator(rescale=1./255,validation_split=0.2)\n",
    "\n",
    "train_generator=data_generator.flow_from_directory(\n",
    "train_dir,\n",
    "target_size=(img_width,img_height),\n",
    "batch_size=batch_size,\n",
    "class_mode='categorical',\n",
    "color_mode='rgb',\n",
    "subset='training')\n",
    "\n",
    "validation_generator=data_generator.flow_from_directory(\n",
    "train_dir,\n",
    "target_size=(img_width,img_height),\n",
    "batch_size=batch_size,\n",
    "class_mode='categorical',\n",
    "color_mode='rgb',\n",
    "subset='validation')\n",
    "\n",
    "test_generator=test_data_generator.flow_from_directory(\n",
    "test_dir,\n",
    "target_size=(img_width,img_height),\n",
    "batch_size=batch_size,\n",
    "class_mode='categorical',\n",
    "color_mode='rgb')"
   ]
  },
  {
   "cell_type": "code",
   "execution_count": 8,
   "metadata": {},
   "outputs": [],
   "source": [
    "# Load pre-trained ResNet50V2 model\n",
    "ResNet50V2_base = ResNet50V2(input_shape=(img_width, img_height, 3),\n",
    "                             include_top=False,\n",
    "                             weights='imagenet'\n",
    "                             )\n",
    "\n",
    "# Freeze all layers except last 50\n",
    "ResNet50V2_base.trainable = True\n",
    "for layer in ResNet50V2_base.layers[:-50]:\n",
    "    layer.trainable = False\n",
    "\n",
    "# Custom model using ResNet50V2\n",
    "def Create_Custom_ResNet50V2_Model():\n",
    "    model = Sequential([\n",
    "        ResNet50V2_base,\n",
    "        Dropout(0.25), # overfitting engellemek icin\n",
    "        BatchNormalization(), # overfitting engellemek icin\n",
    "        Flatten(), # Resnetten çıkan sonucu uygun hale getirme\n",
    "        Dense(64, activation='relu'), # \n",
    "        BatchNormalization(),\n",
    "        Dropout(0.5),\n",
    "        Dense(7, activation='softmax')\n",
    "    ])\n",
    "    return model\n",
    "\n",
    "ResNet50V2_Model = Create_Custom_ResNet50V2_Model()\n",
    "ResNet50V2_Model.compile(optimizer='adam', loss='categorical_crossentropy', metrics=['accuracy'])"
   ]
  },
  {
   "cell_type": "code",
   "execution_count": 9,
   "metadata": {},
   "outputs": [],
   "source": [
    "# Callbacks\n",
    "checkpoint_path = \"ResNet50V2_Model_Checkpoint.keras\"\n",
    "Checkpoint = ModelCheckpoint(checkpoint_path, monitor=\"val_accuracy\", save_best_only=True)\n",
    "Early_Stopping = EarlyStopping(monitor='val_accuracy', patience=7, restore_best_weights=True, verbose=1)\n",
    "Reducing_LR = ReduceLROnPlateau(monitor='val_loss', factor=0.2, patience=2, verbose=1)\n",
    "\n",
    "callbacks = [Early_Stopping, Reducing_LR]\n",
    "\n",
    "steps_per_epoch = train_generator.n // train_generator.batch_size\n",
    "validation_steps = validation_generator.n // validation_generator.batch_size"
   ]
  },
  {
   "cell_type": "code",
   "execution_count": 10,
   "metadata": {},
   "outputs": [
    {
     "name": "stdout",
     "output_type": "stream",
     "text": [
      "Epoch 1/100\n",
      "717/717 [==============================] - 42s 50ms/step - loss: 2.1128 - accuracy: 0.2230 - val_loss: 3.1639 - val_accuracy: 0.2418 - lr: 0.0010\n",
      "Epoch 2/100\n",
      "717/717 [==============================] - 34s 47ms/step - loss: 1.8384 - accuracy: 0.2797 - val_loss: 2.6257 - val_accuracy: 0.3333 - lr: 0.0010\n",
      "Epoch 3/100\n",
      "717/717 [==============================] - 33s 46ms/step - loss: 1.7236 - accuracy: 0.3243 - val_loss: 3.5696 - val_accuracy: 0.3326 - lr: 0.0010\n",
      "Epoch 4/100\n",
      "717/717 [==============================] - 32s 45ms/step - loss: 1.6755 - accuracy: 0.3476 - val_loss: 1.9192 - val_accuracy: 0.3492 - lr: 0.0010\n",
      "Epoch 5/100\n",
      "717/717 [==============================] - 32s 44ms/step - loss: 1.6515 - accuracy: 0.3548 - val_loss: 2.2372 - val_accuracy: 0.3422 - lr: 0.0010\n",
      "Epoch 6/100\n",
      "717/717 [==============================] - ETA: 0s - loss: 1.6409 - accuracy: 0.3595\n",
      "Epoch 6: ReduceLROnPlateau reducing learning rate to 0.00020000000949949026.\n",
      "717/717 [==============================] - 33s 45ms/step - loss: 1.6409 - accuracy: 0.3595 - val_loss: 23.7890 - val_accuracy: 0.3642 - lr: 0.0010\n",
      "Epoch 7/100\n",
      "717/717 [==============================] - 32s 45ms/step - loss: 1.5891 - accuracy: 0.3866 - val_loss: 1.5809 - val_accuracy: 0.3925 - lr: 2.0000e-04\n",
      "Epoch 8/100\n",
      "717/717 [==============================] - 33s 45ms/step - loss: 1.5724 - accuracy: 0.3972 - val_loss: 5.0844 - val_accuracy: 0.4005 - lr: 2.0000e-04\n",
      "Epoch 9/100\n",
      "717/717 [==============================] - 33s 46ms/step - loss: 1.5550 - accuracy: 0.4017 - val_loss: 1.5455 - val_accuracy: 0.4115 - lr: 2.0000e-04\n",
      "Epoch 10/100\n",
      "717/717 [==============================] - 32s 45ms/step - loss: 1.5431 - accuracy: 0.4074 - val_loss: 1.6093 - val_accuracy: 0.4092 - lr: 2.0000e-04\n",
      "Epoch 11/100\n",
      "717/717 [==============================] - ETA: 0s - loss: 1.5355 - accuracy: 0.4075\n",
      "Epoch 11: ReduceLROnPlateau reducing learning rate to 4.0000001899898055e-05.\n",
      "717/717 [==============================] - 32s 45ms/step - loss: 1.5355 - accuracy: 0.4075 - val_loss: 2.2223 - val_accuracy: 0.3996 - lr: 2.0000e-04\n",
      "Epoch 12/100\n",
      "717/717 [==============================] - 32s 45ms/step - loss: 1.5260 - accuracy: 0.4158 - val_loss: 1.5013 - val_accuracy: 0.4166 - lr: 4.0000e-05\n",
      "Epoch 13/100\n",
      "717/717 [==============================] - 33s 46ms/step - loss: 1.5112 - accuracy: 0.4183 - val_loss: 1.4942 - val_accuracy: 0.4136 - lr: 4.0000e-05\n",
      "Epoch 14/100\n",
      "717/717 [==============================] - 32s 45ms/step - loss: 1.4966 - accuracy: 0.4268 - val_loss: 1.5202 - val_accuracy: 0.4223 - lr: 4.0000e-05\n",
      "Epoch 15/100\n",
      "717/717 [==============================] - 33s 46ms/step - loss: 1.5070 - accuracy: 0.4243 - val_loss: 1.4913 - val_accuracy: 0.4258 - lr: 4.0000e-05\n",
      "Epoch 16/100\n",
      "717/717 [==============================] - 32s 45ms/step - loss: 1.4941 - accuracy: 0.4277 - val_loss: 1.6196 - val_accuracy: 0.4286 - lr: 4.0000e-05\n",
      "Epoch 17/100\n",
      "716/717 [============================>.] - ETA: 0s - loss: 1.4985 - accuracy: 0.4299\n",
      "Epoch 17: ReduceLROnPlateau reducing learning rate to 8.000000525498762e-06.\n",
      "717/717 [==============================] - 33s 45ms/step - loss: 1.4983 - accuracy: 0.4300 - val_loss: 1.6234 - val_accuracy: 0.4316 - lr: 4.0000e-05\n",
      "Epoch 18/100\n",
      "717/717 [==============================] - 33s 46ms/step - loss: 1.4857 - accuracy: 0.4306 - val_loss: 1.5538 - val_accuracy: 0.4207 - lr: 8.0000e-06\n",
      "Epoch 19/100\n",
      "717/717 [==============================] - ETA: 0s - loss: 1.4777 - accuracy: 0.4302\n",
      "Epoch 19: ReduceLROnPlateau reducing learning rate to 1.6000001778593287e-06.\n",
      "717/717 [==============================] - 33s 46ms/step - loss: 1.4777 - accuracy: 0.4302 - val_loss: 1.6042 - val_accuracy: 0.4274 - lr: 8.0000e-06\n",
      "Epoch 20/100\n",
      "717/717 [==============================] - 33s 45ms/step - loss: 1.4797 - accuracy: 0.4356 - val_loss: 1.5337 - val_accuracy: 0.4286 - lr: 1.6000e-06\n",
      "Epoch 21/100\n",
      "717/717 [==============================] - ETA: 0s - loss: 1.4866 - accuracy: 0.4282\n",
      "Epoch 21: ReduceLROnPlateau reducing learning rate to 3.200000264769187e-07.\n",
      "717/717 [==============================] - 33s 46ms/step - loss: 1.4866 - accuracy: 0.4282 - val_loss: 1.7462 - val_accuracy: 0.4373 - lr: 1.6000e-06\n",
      "Epoch 22/100\n",
      "717/717 [==============================] - 33s 45ms/step - loss: 1.4880 - accuracy: 0.4341 - val_loss: 1.6260 - val_accuracy: 0.4380 - lr: 3.2000e-07\n",
      "Epoch 23/100\n",
      "716/717 [============================>.] - ETA: 0s - loss: 1.4818 - accuracy: 0.4342\n",
      "Epoch 23: ReduceLROnPlateau reducing learning rate to 6.400000529538374e-08.\n",
      "717/717 [==============================] - 33s 47ms/step - loss: 1.4818 - accuracy: 0.4342 - val_loss: 1.6921 - val_accuracy: 0.4375 - lr: 3.2000e-07\n",
      "Epoch 24/100\n",
      "717/717 [==============================] - 34s 48ms/step - loss: 1.4843 - accuracy: 0.4328 - val_loss: 1.5829 - val_accuracy: 0.4310 - lr: 6.4000e-08\n",
      "Epoch 25/100\n",
      "716/717 [============================>.] - ETA: 0s - loss: 1.4754 - accuracy: 0.4294\n",
      "Epoch 25: ReduceLROnPlateau reducing learning rate to 1.2800001059076749e-08.\n",
      "717/717 [==============================] - 37s 51ms/step - loss: 1.4756 - accuracy: 0.4294 - val_loss: 1.7074 - val_accuracy: 0.4263 - lr: 6.4000e-08\n",
      "Epoch 26/100\n",
      "717/717 [==============================] - 35s 49ms/step - loss: 1.4854 - accuracy: 0.4328 - val_loss: 1.5275 - val_accuracy: 0.4342 - lr: 1.2800e-08\n",
      "Epoch 27/100\n",
      "716/717 [============================>.] - ETA: 0s - loss: 1.4819 - accuracy: 0.4338\n",
      "Epoch 27: ReduceLROnPlateau reducing learning rate to 2.5600002118153498e-09.\n",
      "717/717 [==============================] - 34s 48ms/step - loss: 1.4820 - accuracy: 0.4339 - val_loss: 1.5694 - val_accuracy: 0.4331 - lr: 1.2800e-08\n",
      "Epoch 28/100\n",
      "717/717 [==============================] - 32s 45ms/step - loss: 1.4752 - accuracy: 0.4321 - val_loss: 1.4925 - val_accuracy: 0.4272 - lr: 2.5600e-09\n",
      "Epoch 29/100\n",
      "716/717 [============================>.] - ETA: 0s - loss: 1.4899 - accuracy: 0.4274Restoring model weights from the end of the best epoch: 22.\n",
      "\n",
      "Epoch 29: ReduceLROnPlateau reducing learning rate to 5.1200004236307e-10.\n",
      "717/717 [==============================] - 34s 48ms/step - loss: 1.4897 - accuracy: 0.4275 - val_loss: 1.5539 - val_accuracy: 0.4269 - lr: 2.5600e-09\n",
      "Epoch 29: early stopping\n"
     ]
    }
   ],
   "source": [
    "ResNet50V2_history = ResNet50V2_Model.fit(train_generator, validation_data=validation_generator, epochs=epochs, batch_size=batch_size,\n",
    "                                           callbacks=callbacks, steps_per_epoch=steps_per_epoch,\n",
    "                                           validation_steps=validation_steps)"
   ]
  },
  {
   "cell_type": "code",
   "execution_count": 11,
   "metadata": {},
   "outputs": [
    {
     "name": "stdout",
     "output_type": "stream",
     "text": [
      "225/225 [==============================] - 33s 145ms/step - loss: 1.6937 - accuracy: 0.4773\n",
      "Test Loss: 1.69375\n",
      "Test Accuracy: 47.73%\n"
     ]
    }
   ],
   "source": [
    "ResNet50V2_Score = ResNet50V2_Model.evaluate(test_generator)\n",
    "print(\"Test Loss: {:.5f}\".format(ResNet50V2_Score[0]))\n",
    "print(\"Test Accuracy: {:.2f}%\".format(ResNet50V2_Score[1] * 100))"
   ]
  },
  {
   "cell_type": "code",
   "execution_count": 12,
   "metadata": {},
   "outputs": [
    {
     "data": {
      "image/png": "[encoded data removed]",
      "text/plain": [
       "<Figure size 1500x500 with 2 Axes>"
      ]
     },
     "metadata": {},
     "output_type": "display_data"
    }
   ],
   "source": [
    "import matplotlib.pyplot as plt\n",
    "\n",
    "# Function to plot training curves\n",
    "def plot_curves(history):\n",
    "    loss = history.history[\"loss\"]\n",
    "    val_loss = history.history[\"val_loss\"]\n",
    "    accuracy = history.history[\"accuracy\"]\n",
    "    val_accuracy = history.history[\"val_accuracy\"]\n",
    "    epochs = range(len(history.history[\"loss\"]))\n",
    "\n",
    "    plt.figure(figsize=(15, 5))\n",
    "\n",
    "    # Plot loss\n",
    "    plt.subplot(1, 2, 1)\n",
    "    plt.plot(epochs, loss, label=\"training_loss\")\n",
    "    plt.plot(epochs, val_loss, label=\"val_loss\")\n",
    "    plt.title(\"Loss\")\n",
    "    plt.xlabel(\"epochs\")\n",
    "    plt.legend()\n",
    "\n",
    "    # Plot accuracy\n",
    "    plt.subplot(1, 2, 2)\n",
    "    plt.plot(epochs, accuracy, label=\"training_accuracy\")\n",
    "    plt.plot(epochs, val_accuracy, label=\"val_accuracy\")\n",
    "    plt.title(\"Accuracy\")\n",
    "    plt.xlabel(\"epochs\")\n",
    "    plt.legend()\n",
    "\n",
    "plot_curves(ResNet50V2_history)"
   ]
  }
 ],
 "metadata": {
  "kernelspec": {
   "display_name": "Python 3",
   "language": "python",
   "name": "python3"
  },
  "language_info": {
   "codemirror_mode": {
    "name": "ipython",
    "version": 3
   },
   "file_extension": ".py",
   "mimetype": "text/x-python",
   "name": "python",
   "nbconvert_exporter": "python",
   "pygments_lexer": "ipython3",
   "version": "3.10.14"
  }
 },
 "nbformat": 4,
 "nbformat_minor": 2
}
