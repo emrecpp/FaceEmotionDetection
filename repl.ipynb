{
 "cells": [
  {
   "cell_type": "code",
   "execution_count": 1,
   "metadata": {},
   "outputs": [],
   "source": [
    "import pandas as pd\n",
    "from tensorflow.keras.preprocessing.image import ImageDataGenerator\n",
    "from tensorflow.keras.callbacks import EarlyStopping, ModelCheckpoint, ReduceLROnPlateau\n",
    "from tensorflow.keras.models import Sequential\n",
    "from tensorflow.keras.layers import *\n",
    "from tensorflow.keras.applications import ResNet50V2"
   ]
  },
  {
   "cell_type": "code",
   "execution_count": 2,
   "metadata": {},
   "outputs": [],
   "source": [
    "import os\n",
    "\n",
    "def Classes_Count(path, name):\n",
    "    Classes_Dict = {}\n",
    "    for Class in os.listdir(path):\n",
    "        Full_Path = os.path.join(path, Class)\n",
    "        Classes_Dict[Class] = len(os.listdir(Full_Path))\n",
    "    df = pd.DataFrame(Classes_Dict, index=[name])\n",
    "    return df"
   ]
  },
  {
   "cell_type": "code",
   "execution_count": 3,
   "metadata": {},
   "outputs": [],
   "source": [
    "# Verisetinin konumları\n",
    "train_dir = rf'{os.getcwd()}{os.sep}archive{os.sep}train'\n",
    "test_dir = rf'{os.getcwd()}{os.sep}archive{os.sep}test'"
   ]
  },
  {
   "cell_type": "code",
   "execution_count": 4,
   "metadata": {},
   "outputs": [
    {
     "data": {
      "text/html": [
       "<div>\n",
       "<style scoped>\n",
       "    .dataframe tbody tr th:only-of-type {\n",
       "        vertical-align: middle;\n",
       "    }\n",
       "\n",
       "    .dataframe tbody tr th {\n",
       "        vertical-align: top;\n",
       "    }\n",
       "\n",
       "    .dataframe thead th {\n",
       "        text-align: right;\n",
       "    }\n",
       "</style>\n",
       "<table border=\"1\" class=\"dataframe\">\n",
       "  <thead>\n",
       "    <tr style=\"text-align: right;\">\n",
       "      <th></th>\n",
       "      <th>Train</th>\n",
       "      <th>Test</th>\n",
       "    </tr>\n",
       "  </thead>\n",
       "  <tbody>\n",
       "    <tr>\n",
       "      <th>happy</th>\n",
       "      <td>7215</td>\n",
       "      <td>1774</td>\n",
       "    </tr>\n",
       "    <tr>\n",
       "      <th>neutral</th>\n",
       "      <td>4965</td>\n",
       "      <td>1233</td>\n",
       "    </tr>\n",
       "    <tr>\n",
       "      <th>sad</th>\n",
       "      <td>4830</td>\n",
       "      <td>1247</td>\n",
       "    </tr>\n",
       "    <tr>\n",
       "      <th>fear</th>\n",
       "      <td>4097</td>\n",
       "      <td>1024</td>\n",
       "    </tr>\n",
       "    <tr>\n",
       "      <th>angry</th>\n",
       "      <td>3995</td>\n",
       "      <td>958</td>\n",
       "    </tr>\n",
       "    <tr>\n",
       "      <th>surprise</th>\n",
       "      <td>3171</td>\n",
       "      <td>831</td>\n",
       "    </tr>\n",
       "    <tr>\n",
       "      <th>disgust</th>\n",
       "      <td>436</td>\n",
       "      <td>111</td>\n",
       "    </tr>\n",
       "  </tbody>\n",
       "</table>\n",
       "</div>"
      ],
      "text/plain": [
       "          Train  Test\n",
       "happy      7215  1774\n",
       "neutral    4965  1233\n",
       "sad        4830  1247\n",
       "fear       4097  1024\n",
       "angry      3995   958\n",
       "surprise   3171   831\n",
       "disgust     436   111"
      ]
     },
     "execution_count": 4,
     "metadata": {},
     "output_type": "execute_result"
    }
   ],
   "source": [
    "\n",
    "Train_Count = Classes_Count(train_dir, 'Train').transpose().sort_values(by=\"Train\", ascending=False)\n",
    "Test_Count = Classes_Count(test_dir, 'Test').transpose().sort_values(by=\"Test\", ascending=False)\n",
    "pd.concat([Train_Count, Test_Count], axis=1)"
   ]
  },
  {
   "cell_type": "code",
   "execution_count": 5,
   "metadata": {},
   "outputs": [],
   "source": [
    "img_width,img_height=224,224\n",
    "batch_size=32\n",
    "epochs=100\n",
    "num_classes=7"
   ]
  },
  {
   "cell_type": "code",
   "execution_count": 6,
   "metadata": {},
   "outputs": [],
   "source": [
    "data_generator = ImageDataGenerator(\n",
    "    rescale=1./255,  #  [0, 255] den [0, 1] arasına indirmek için\n",
    "    rotation_range=40,  # Rastgele resmi döndürme\n",
    "    width_shift_range=0.2,  # Genişlik kaydırma aralığı\n",
    "    height_shift_range=0.2,  # Yükseklik kaydırma aralığı\n",
    "    shear_range=0.2,  # Kesme aralığı\n",
    "    zoom_range=0.2,  # Yakınlaştırma aralığı\n",
    "    horizontal_flip=True,  # Yatay çevirme\n",
    "    fill_mode='nearest',  # Oluşan yeni pixelleri doldurma yöntemi\n",
    "    validation_split=0.2  # verilerin %20 doğrulama için kullanılacak\n",
    ")"
   ]
  },
  {
   "cell_type": "code",
   "execution_count": 7,
   "metadata": {},
   "outputs": [
    {
     "name": "stdout",
     "output_type": "stream",
     "text": [
      "Found 22968 images belonging to 7 classes.\n",
      "Found 5741 images belonging to 7 classes.\n",
      "Found 7178 images belonging to 7 classes.\n"
     ]
    }
   ],
   "source": [
    "test_data_generator=ImageDataGenerator(rescale=1./255,validation_split=0.2) # tensorflow keras kütüphanesindeki ImageDataGenerator\n",
    "\n",
    "train_generator=data_generator.flow_from_directory(\n",
    "train_dir,\n",
    "target_size=(img_width,img_height),\n",
    "batch_size=batch_size,\n",
    "class_mode='categorical',\n",
    "color_mode='rgb',\n",
    "subset='training')\n",
    "\n",
    "validation_generator=data_generator.flow_from_directory(\n",
    "train_dir,\n",
    "target_size=(img_width,img_height),\n",
    "batch_size=batch_size,\n",
    "class_mode='categorical',\n",
    "color_mode='rgb',\n",
    "subset='validation')\n",
    "\n",
    "test_generator=test_data_generator.flow_from_directory(\n",
    "test_dir,\n",
    "target_size=(img_width,img_height),\n",
    "batch_size=batch_size,\n",
    "class_mode='categorical',\n",
    "color_mode='rgb')"
   ]
  },
  {
   "cell_type": "code",
   "execution_count": 8,
   "metadata": {},
   "outputs": [],
   "source": [
    "# Pre-trained ResNet50V2 modelini yüklüyoruz\n",
    "ResNet50V2_base = ResNet50V2(input_shape=(img_width, img_height, 3),\n",
    "                             include_top=False,\n",
    "                             weights='imagenet'\n",
    "                             )\n",
    "\n",
    "#  Son 50 katman harici tüm katmanları dondur\n",
    "ResNet50V2_base.trainable = True\n",
    "for layer in ResNet50V2_base.layers[:-50]:\n",
    "    layer.trainable = False\n",
    "\n",
    "def Create_Custom_ResNet50V2_Model():\n",
    "    model = Sequential([\n",
    "        ResNet50V2_base,\n",
    "        Dropout(0.25), # overfitting engellemek icin\n",
    "        BatchNormalization(), # overfitting engellemek icin\n",
    "        Flatten(), # Resnetten çıkan sonucu uygun hale getirme\n",
    "        Dense(64, activation='relu'), \n",
    "        BatchNormalization(),\n",
    "        Dropout(0.5),\n",
    "        Dense(7, activation='softmax')\n",
    "    ])\n",
    "    return model\n",
    "\n",
    "ResNet50V2_Model = Create_Custom_ResNet50V2_Model()\n",
    "ResNet50V2_Model.compile(optimizer='adam', loss='categorical_crossentropy', metrics=['accuracy'])"
   ]
  },
  {
   "cell_type": "code",
   "execution_count": 9,
   "metadata": {},
   "outputs": [],
   "source": [
    "# Callbacks\n",
    "checkpoint_path = \"ResNet50V2_Model_Checkpoint.keras\"\n",
    "Checkpoint = ModelCheckpoint(checkpoint_path, monitor=\"val_accuracy\", save_best_only=True)\n",
    "Early_Stopping = EarlyStopping(monitor='val_accuracy', patience=7, restore_best_weights=True, verbose=1)\n",
    "Reducing_LR = ReduceLROnPlateau(monitor='val_loss', factor=0.2, patience=2, verbose=1)\n",
    "\n",
    "callbacks = [Early_Stopping, Reducing_LR]\n",
    "\n",
    "steps_per_epoch = train_generator.n // train_generator.batch_size\n",
    "validation_steps = validation_generator.n // validation_generator.batch_size"
   ]
  },
  {
   "cell_type": "code",
   "execution_count": 10,
   "metadata": {},
   "outputs": [
    {
     "name": "stdout",
     "output_type": "stream",
     "text": [
      "Epoch 1/100\n",
      "717/717 [==============================] - 232s 314ms/step - loss: 1.9113 - accuracy: 0.3202 - val_loss: 2.1961 - val_accuracy: 0.3650 - lr: 0.0010\n",
      "Epoch 2/100\n",
      "717/717 [==============================] - 222s 309ms/step - loss: 1.6130 - accuracy: 0.4033 - val_loss: 1.5773 - val_accuracy: 0.4368 - lr: 0.0010\n",
      "Epoch 3/100\n",
      "717/717 [==============================] - 223s 311ms/step - loss: 1.4624 - accuracy: 0.4493 - val_loss: 1.4902 - val_accuracy: 0.4591 - lr: 0.0010\n",
      "Epoch 4/100\n",
      "717/717 [==============================] - 222s 310ms/step - loss: 1.3807 - accuracy: 0.4791 - val_loss: 1.3401 - val_accuracy: 0.5054 - lr: 0.0010\n",
      "Epoch 5/100\n",
      "717/717 [==============================] - 223s 311ms/step - loss: 1.3420 - accuracy: 0.4928 - val_loss: 1.7935 - val_accuracy: 0.4838 - lr: 0.0010\n",
      "Epoch 6/100\n",
      "717/717 [==============================] - 221s 309ms/step - loss: 1.3372 - accuracy: 0.4994 - val_loss: 1.2837 - val_accuracy: 0.5257 - lr: 0.0010\n",
      "Epoch 7/100\n",
      "717/717 [==============================] - 223s 311ms/step - loss: 1.3207 - accuracy: 0.5072 - val_loss: 2.9341 - val_accuracy: 0.4330 - lr: 0.0010\n",
      "Epoch 8/100\n",
      "717/717 [==============================] - 222s 310ms/step - loss: 1.3059 - accuracy: 0.5112 - val_loss: 1.2661 - val_accuracy: 0.5166 - lr: 0.0010\n",
      "Epoch 9/100\n",
      "717/717 [==============================] - 223s 311ms/step - loss: 1.2760 - accuracy: 0.5243 - val_loss: 1.2131 - val_accuracy: 0.5452 - lr: 0.0010\n",
      "Epoch 10/100\n",
      "717/717 [==============================] - 222s 309ms/step - loss: 1.2425 - accuracy: 0.5372 - val_loss: 1.2270 - val_accuracy: 0.5363 - lr: 0.0010\n",
      "Epoch 11/100\n",
      "717/717 [==============================] - ETA: 0s - loss: 1.2076 - accuracy: 0.5525\n",
      "Epoch 11: ReduceLROnPlateau reducing learning rate to 0.00020000000949949026.\n",
      "717/717 [==============================] - 223s 311ms/step - loss: 1.2076 - accuracy: 0.5525 - val_loss: 1.2198 - val_accuracy: 0.5569 - lr: 0.0010\n",
      "Epoch 12/100\n",
      "717/717 [==============================] - 222s 310ms/step - loss: 1.1503 - accuracy: 0.5759 - val_loss: 1.1348 - val_accuracy: 0.5725 - lr: 2.0000e-04\n",
      "Epoch 13/100\n",
      "717/717 [==============================] - 224s 312ms/step - loss: 1.1304 - accuracy: 0.5832 - val_loss: 1.1282 - val_accuracy: 0.5779 - lr: 2.0000e-04\n",
      "Epoch 14/100\n",
      "717/717 [==============================] - 223s 312ms/step - loss: 1.1018 - accuracy: 0.5937 - val_loss: 1.1061 - val_accuracy: 0.5927 - lr: 2.0000e-04\n",
      "Epoch 15/100\n",
      "717/717 [==============================] - 224s 312ms/step - loss: 1.0957 - accuracy: 0.5987 - val_loss: 1.0886 - val_accuracy: 0.5978 - lr: 2.0000e-04\n",
      "Epoch 16/100\n",
      "717/717 [==============================] - 222s 310ms/step - loss: 1.0799 - accuracy: 0.6072 - val_loss: 1.0764 - val_accuracy: 0.5962 - lr: 2.0000e-04\n",
      "Epoch 17/100\n",
      "717/717 [==============================] - 224s 312ms/step - loss: 1.0726 - accuracy: 0.6057 - val_loss: 1.0770 - val_accuracy: 0.5981 - lr: 2.0000e-04\n",
      "Epoch 18/100\n",
      "717/717 [==============================] - ETA: 0s - loss: 1.0532 - accuracy: 0.6126\n",
      "Epoch 18: ReduceLROnPlateau reducing learning rate to 4.0000001899898055e-05.\n",
      "717/717 [==============================] - 224s 312ms/step - loss: 1.0532 - accuracy: 0.6126 - val_loss: 1.0799 - val_accuracy: 0.6035 - lr: 2.0000e-04\n",
      "Epoch 19/100\n",
      "717/717 [==============================] - 223s 312ms/step - loss: 1.0427 - accuracy: 0.6178 - val_loss: 1.0594 - val_accuracy: 0.6018 - lr: 4.0000e-05\n",
      "Epoch 20/100\n",
      "717/717 [==============================] - 222s 310ms/step - loss: 1.0381 - accuracy: 0.6205 - val_loss: 1.0533 - val_accuracy: 0.6054 - lr: 4.0000e-05\n",
      "Epoch 21/100\n",
      "717/717 [==============================] - 223s 312ms/step - loss: 1.0285 - accuracy: 0.6239 - val_loss: 1.0589 - val_accuracy: 0.6053 - lr: 4.0000e-05\n",
      "Epoch 22/100\n",
      "717/717 [==============================] - 223s 311ms/step - loss: 1.0207 - accuracy: 0.6246 - val_loss: 1.0421 - val_accuracy: 0.6109 - lr: 4.0000e-05\n",
      "Epoch 23/100\n",
      "717/717 [==============================] - 223s 311ms/step - loss: 1.0252 - accuracy: 0.6232 - val_loss: 1.0474 - val_accuracy: 0.6082 - lr: 4.0000e-05\n",
      "Epoch 24/100\n",
      "717/717 [==============================] - ETA: 0s - loss: 1.0220 - accuracy: 0.6299\n",
      "Epoch 24: ReduceLROnPlateau reducing learning rate to 8.000000525498762e-06.\n",
      "717/717 [==============================] - 222s 310ms/step - loss: 1.0220 - accuracy: 0.6299 - val_loss: 1.0576 - val_accuracy: 0.6180 - lr: 4.0000e-05\n",
      "Epoch 25/100\n",
      "717/717 [==============================] - 224s 312ms/step - loss: 1.0051 - accuracy: 0.6327 - val_loss: 1.0415 - val_accuracy: 0.6117 - lr: 8.0000e-06\n",
      "Epoch 26/100\n",
      "717/717 [==============================] - 223s 311ms/step - loss: 1.0159 - accuracy: 0.6288 - val_loss: 1.0319 - val_accuracy: 0.6088 - lr: 8.0000e-06\n",
      "Epoch 27/100\n",
      "717/717 [==============================] - 224s 312ms/step - loss: 1.0140 - accuracy: 0.6300 - val_loss: 1.0380 - val_accuracy: 0.6142 - lr: 8.0000e-06\n",
      "Epoch 28/100\n",
      "717/717 [==============================] - ETA: 0s - loss: 1.0093 - accuracy: 0.6282\n",
      "Epoch 28: ReduceLROnPlateau reducing learning rate to 1.6000001778593287e-06.\n",
      "717/717 [==============================] - 224s 312ms/step - loss: 1.0093 - accuracy: 0.6282 - val_loss: 1.0488 - val_accuracy: 0.6077 - lr: 8.0000e-06\n",
      "Epoch 29/100\n",
      "717/717 [==============================] - 223s 311ms/step - loss: 1.0070 - accuracy: 0.6294 - val_loss: 1.0408 - val_accuracy: 0.6210 - lr: 1.6000e-06\n",
      "Epoch 30/100\n",
      "717/717 [==============================] - ETA: 0s - loss: 1.0116 - accuracy: 0.6310\n",
      "Epoch 30: ReduceLROnPlateau reducing learning rate to 3.200000264769187e-07.\n",
      "717/717 [==============================] - 223s 311ms/step - loss: 1.0116 - accuracy: 0.6310 - val_loss: 1.0386 - val_accuracy: 0.6149 - lr: 1.6000e-06\n",
      "Epoch 31/100\n",
      "717/717 [==============================] - 224s 312ms/step - loss: 1.0140 - accuracy: 0.6290 - val_loss: 1.0423 - val_accuracy: 0.6102 - lr: 3.2000e-07\n",
      "Epoch 32/100\n",
      "717/717 [==============================] - ETA: 0s - loss: 1.0080 - accuracy: 0.6293\n",
      "Epoch 32: ReduceLROnPlateau reducing learning rate to 6.400000529538374e-08.\n",
      "717/717 [==============================] - 223s 310ms/step - loss: 1.0080 - accuracy: 0.6293 - val_loss: 1.0353 - val_accuracy: 0.6145 - lr: 3.2000e-07\n",
      "Epoch 33/100\n",
      "717/717 [==============================] - 224s 312ms/step - loss: 1.0116 - accuracy: 0.6295 - val_loss: 1.0488 - val_accuracy: 0.6098 - lr: 6.4000e-08\n",
      "Epoch 34/100\n",
      "717/717 [==============================] - ETA: 0s - loss: 1.0096 - accuracy: 0.6296\n",
      "Epoch 34: ReduceLROnPlateau reducing learning rate to 1.2800001059076749e-08.\n",
      "717/717 [==============================] - 223s 310ms/step - loss: 1.0096 - accuracy: 0.6296 - val_loss: 1.0504 - val_accuracy: 0.6114 - lr: 6.4000e-08\n",
      "Epoch 35/100\n",
      "717/717 [==============================] - 223s 311ms/step - loss: 1.0085 - accuracy: 0.6297 - val_loss: 1.0333 - val_accuracy: 0.6072 - lr: 1.2800e-08\n",
      "Epoch 36/100\n",
      "717/717 [==============================] - ETA: 0s - loss: 1.0030 - accuracy: 0.6311Restoring model weights from the end of the best epoch: 29.\n",
      "\n",
      "Epoch 36: ReduceLROnPlateau reducing learning rate to 2.5600002118153498e-09.\n",
      "717/717 [==============================] - 222s 310ms/step - loss: 1.0030 - accuracy: 0.6311 - val_loss: 1.0457 - val_accuracy: 0.6126 - lr: 1.2800e-08\n",
      "Epoch 36: early stopping\n"
     ]
    }
   ],
   "source": [
    "ResNet50V2_history = ResNet50V2_Model.fit(train_generator, validation_data=validation_generator, epochs=epochs, batch_size=batch_size,\n",
    "                                           callbacks=callbacks, steps_per_epoch=steps_per_epoch,\n",
    "                                           validation_steps=validation_steps)"
   ]
  },
  {
   "cell_type": "code",
   "execution_count": 11,
   "metadata": {},
   "outputs": [
    {
     "name": "stdout",
     "output_type": "stream",
     "text": [
      "225/225 [==============================] - 16s 72ms/step - loss: 0.9896 - accuracy: 0.6284\n",
      "Test Loss: 0.98959\n",
      "Test Accuracy: 62.84%\n"
     ]
    }
   ],
   "source": [
    "ResNet50V2_Score = ResNet50V2_Model.evaluate(test_generator)\n",
    "print(\"Test Loss: {:.5f}\".format(ResNet50V2_Score[0]))\n",
    "print(\"Test Accuracy: {:.2f}%\".format(ResNet50V2_Score[1] * 100))"
   ]
  },
  {
   "cell_type": "code",
   "execution_count": 12,
   "metadata": {},
   "outputs": [
    {
     "data": {
      "image/png": "[encoded data removed]",
      "text/plain": [
       "<Figure size 1500x500 with 2 Axes>"
      ]
     },
     "metadata": {},
     "output_type": "display_data"
    }
   ],
   "source": [
    "import matplotlib.pyplot as plt\n",
    "\n",
    "\n",
    "def plot_curves(history):\n",
    "    loss = history.history[\"loss\"]\n",
    "    val_loss = history.history[\"val_loss\"]\n",
    "    accuracy = history.history[\"accuracy\"]\n",
    "    val_accuracy = history.history[\"val_accuracy\"]\n",
    "    epochs = range(len(history.history[\"loss\"]))\n",
    "\n",
    "    plt.figure(figsize=(15, 5))\n",
    "\n",
    "    # Plot loss\n",
    "    plt.subplot(1, 2, 1)\n",
    "    plt.plot(epochs, loss, label=\"training_loss\")\n",
    "    plt.plot(epochs, val_loss, label=\"val_loss\")\n",
    "    plt.title(\"Loss\")\n",
    "    plt.xlabel(\"epochs\")\n",
    "    plt.legend()\n",
    "\n",
    "    # Plot accuracy\n",
    "    plt.subplot(1, 2, 2)\n",
    "    plt.plot(epochs, accuracy, label=\"training_accuracy\")\n",
    "    plt.plot(epochs, val_accuracy, label=\"val_accuracy\")\n",
    "    plt.title(\"Accuracy\")\n",
    "    plt.xlabel(\"epochs\")\n",
    "    plt.legend()\n",
    "\n",
    "plot_curves(ResNet50V2_history)"
   ]
  },
  {
   "cell_type": "code",
   "execution_count": 13,
   "metadata": {},
   "outputs": [],
   "source": [
    "ResNet50V2_Model.to_json()\n",
    "ResNet50V2_Model.save(\"ResNet50V2_Model_2.h5\")\n",
    "ResNet50V2_Model.save_weights(\"ResNet50V2_Model_Weights_2.h5\")\n"
   ]
  }
 ],
 "metadata": {
  "kernelspec": {
   "display_name": "Python 3",
   "language": "python",
   "name": "python3"
  },
  "language_info": {
   "codemirror_mode": {
    "name": "ipython",
    "version": 3
   },
   "file_extension": ".py",
   "mimetype": "text/x-python",
   "name": "python",
   "nbconvert_exporter": "python",
   "pygments_lexer": "ipython3",
   "version": "3.10.14"
  }
 },
 "nbformat": 4,
 "nbformat_minor": 2
}
